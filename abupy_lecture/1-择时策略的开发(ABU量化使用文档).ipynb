{
 "cells": [
  {
   "cell_type": "markdown",
   "metadata": {},
   "source": [
    "# ABU量化系统使用文档 \n",
    "\n",
    "<center>\n",
    "        <img src=\"./image/abu_logo.png\" alt=\"\" style=\"vertical-align:middle;padding:10px 20px;\"><font size=\"6\" color=\"black\"><b>第1节 择时策略的开发</b></font>\n",
    "</center>\n",
    "\n",
    "-----------------\n",
    "\n",
    "作者: 阿布\n",
    "\n",
    "阿布量化版权所有 未经允许 禁止转载\n",
    "\n",
    "[abu量化系统github地址](https://github.com/bbfamily/abu) (欢迎+star)\n",
    "\n",
    "[本节ipython notebook](https://github.com/bbfamily/abu/tree/master/abupy_lecture)\n",
    "\n",
    "[本节界面操作教程视频播放地址](https://v.qq.com/x/page/g0555b9k6ge.html)\n",
    "\n",
    "\n",
    "首先导入abupy中本节使用的模块："
   ]
  },
  {
   "cell_type": "code",
   "metadata": {
    "collapsed": true,
    "ExecuteTime": {
     "end_time": "2024-05-23T10:24:09.146218Z",
     "start_time": "2024-05-23T10:24:09.140826Z"
    }
   },
   "source": [
    "# 基础库导入，注意第一次运行时会比较慢，要做数据的解压等处理操作\n",
    "from __future__ import print_function\n",
    "from __future__ import division\n",
    "\n",
    "import warnings\n",
    "warnings.filterwarnings('ignore')\n",
    "warnings.simplefilter('ignore')\n",
    "    \n",
    "import numpy as np\n",
    "import pandas as pd\n",
    "import matplotlib.pyplot as plt\n",
    "%matplotlib inline\n",
    "import os\n",
    "import sys\n",
    "# 使用insert 0即只使用github，避免交叉使用了pip安装的abupy，导致的版本不一致问题\n",
    "sys.path.insert(0, os.path.abspath('../'))\n",
    "import abupy"
   ],
   "outputs": [],
   "execution_count": 16
  },
  {
   "cell_type": "code",
   "metadata": {
    "ExecuteTime": {
     "end_time": "2024-05-23T10:24:09.180789Z",
     "start_time": "2024-05-23T10:24:09.175949Z"
    }
   },
   "source": [
    "# 使用沙盒数据，目的是和书中一样的数据环境\n",
    "abupy.env.enable_example_env_ipython()"
   ],
   "outputs": [
    {
     "name": "stderr",
     "output_type": "stream",
     "text": [
      "enable example env will only read RomDataBu/csv\n"
     ]
    }
   ],
   "execution_count": 17
  },
  {
   "cell_type": "markdown",
   "metadata": {},
   "source": [
    "abupy.env.enable_example_env_ipython()的目的是使用abupy中内置的测试金融时间序列数据，即不从网络获取数据，\n",
    "只从本地获取数据，优点是所有人在任何时间运行代码的结果都是一致的，因为数据是一致，在编写使用文档的使用，为了所有人在所有时间点可以运行出一致的结果，本教程中大多数示例都使用abupy中内置的测试金融时间序列数据\n",
    "\n",
    "abupy中内置的k线数据有\n",
    "\n",
    "#### A股市场：\n",
    "\n",
    "* 科大讯飞(002230)\n",
    "* 乐视网(300104)\n",
    "* 东方财富(300059)\n",
    "* 中国中车(601766)\n",
    "* 同仁堂(600085),\n",
    "* 招商银行(600036)\n",
    "* 山西汾酒(600809)\n",
    "* 万科A(000002)\n",
    "* 比亚迪(002594)\n",
    "* 万达电影(002739)\n",
    "* 上证指数(sh000001)\n",
    "\n",
    "#### 美股市场：\n",
    "\n",
    "* 苹果(usAAPL)\n",
    "* google(usGOOG)\n",
    "* facebook(usFB)\n",
    "* 特斯拉电动车(usTSLA)\n",
    "* 百度(usBIDU)\n",
    "* 诺亚财富(usNOAH)\n",
    "* 搜房(usSFUN)\n",
    "* 唯品会(usVIPS)\n",
    "* 58同城(usWUBA)\n",
    "* 纳斯达克指数(us.IXIC)\n",
    "\n",
    "#### 币类市场：\n",
    "\n",
    "* 比特币(btc)\n",
    "* 莱特币(ltc)\n",
    "\n",
    "#### 国内期货市场：\n",
    "\n",
    "V0(PVC)\n",
    "P0(棕榈)\n",
    "M0(豆粕)\n",
    "I0(铁矿石)\n",
    "JD0(鸡蛋)\n",
    "L0(塑料)\n",
    "PP0(PP)\n",
    "FB0(纤维板)\n",
    "BB0(胶合板)\n",
    "Y0(豆油)\n",
    "C0(玉米)\n",
    "A0(豆一)\n",
    "B0(豆二)\n",
    "J0(焦炭)\n",
    "JM0(焦煤)\n",
    "CS0(玉米淀粉)\n",
    "TA0(PTA)\n",
    "OI0(菜油)\n",
    "RS0(菜籽)\n",
    "RM0(菜粕)\n",
    "ZC0(动力煤)\n",
    "WH0(强麦)\n",
    "JR0(粳稻)\n",
    "SR0(白糖)\n",
    "CF0(棉花)\n",
    "RI0(早籼稻)\n",
    "MA0(郑醇)\n",
    "FG0(玻璃)\n",
    "LR0(晚籼稻)\n",
    "SF0(硅铁)\n",
    "SM0(锰硅)\n",
    "FU0(燃油)\n",
    "AL0(沪铝)\n",
    "RU0(橡胶)\n",
    "ZN0(沪锌)\n",
    "CU0(沪铜)\n",
    "AU0(黄金)\n",
    "RB0(螺纹钢)\n",
    "WR0(线材)\n",
    "PB0(沪铅)\n",
    "AG0(白银)\n",
    "BU0(沥青)\n",
    "HC0(热轧卷板)\n",
    "SN0(沪锡)\n",
    "NI0(沪镍)\n",
    "\n",
    "#### 国际期货市场：\n",
    "\n",
    "NID(伦敦镍)\n",
    "PBD(伦敦铅)\n",
    "SND(伦敦锡)\n",
    "ZSD(伦敦锌)\n",
    "AHD(伦敦铝)\n",
    "CAD(伦敦铜)\n",
    "XAU(伦敦金)\n",
    "XAG(伦敦银)\n",
    "XPT(伦敦铂金)\n",
    "S(美黄豆)\n",
    "W(美小麦)\n",
    "C(美玉米)\n",
    "BO(美豆油)\n",
    "SM(美豆粕)\n",
    "HG(纽约铜)\n",
    "SI(纽约白银)\n",
    "GC(纽约黄金)\n",
    "CL(纽约原油)\n",
    "NG(纽约天然气)\n",
    "\n",
    "#### 港股市场：\n",
    "\n",
    "* 中国恒大(hk03333)\n",
    "* 腾讯控股(hk00700)\n",
    "* 长城汽车(hk02333)\n",
    "* 中国信达(hk01359)\n",
    "* 复星国际(hk00656)\n",
    "* 金山软件(hk03888)\n",
    "* 中国平安(hk02318)\n",
    "* 恒生指数(hkHSI)"
   ]
  },
  {
   "cell_type": "markdown",
   "metadata": {},
   "source": [
    "enable_example_env_ipython的情况下，当请求不在内置数据中的数据时，也不会从网络去获取数据，只会返回空\n",
    "\n",
    "eg: 使用ABuSymbolPd请求不在内置数据中的京东(usJD)"
   ]
  },
  {
   "cell_type": "code",
   "metadata": {
    "ExecuteTime": {
     "end_time": "2024-05-23T10:24:09.197734Z",
     "start_time": "2024-05-23T10:24:09.190667Z"
    }
   },
   "source": [
    "from abupy import ABuSymbolPd\n",
    "ABuSymbolPd.make_kl_df('usJD') is None"
   ],
   "outputs": [
    {
     "data": {
      "text/plain": [
       "True"
      ]
     },
     "execution_count": 18,
     "metadata": {},
     "output_type": "execute_result"
    }
   ],
   "execution_count": 18
  },
  {
   "cell_type": "markdown",
   "metadata": {},
   "source": [
    "使用abupy.env.disable_example_env_ipython关闭沙盒数据后，即可以使用正常的数据获取模式，非本地沙盒数据\n",
    "\n",
    "eg: 使用ABuSymbolPd请求不在内置数据中的京东(usJD)"
   ]
  },
  {
   "cell_type": "code",
   "metadata": {
    "ExecuteTime": {
     "end_time": "2024-05-23T10:24:13.235979Z",
     "start_time": "2024-05-23T10:24:09.204745Z"
    }
   },
   "source": [
    "abupy.env.disable_example_env_ipython()\n",
    "us_jd = ABuSymbolPd.make_kl_df('usJD')\n",
    "# 再次开启沙盒环境，本节的示例都是在沙盒数据环境下运行\n",
    "abupy.env.enable_example_env_ipython()\n",
    "tail = None\n",
    "if us_jd is not None:\n",
    "    tail = us_jd.tail()\n",
    "tail"
   ],
   "outputs": [
    {
     "name": "stderr",
     "output_type": "stream",
     "text": [
      "disable example env\n",
      "enable example env will only read RomDataBu/csv\n"
     ]
    }
   ],
   "execution_count": 19
  },
  {
   "cell_type": "markdown",
   "metadata": {},
   "source": [
    "备注：关于abupy更多环境配置，数据源切换，市场切换，存贮方式等切换等在后续章节会讲解"
   ]
  },
  {
   "cell_type": "markdown",
   "metadata": {},
   "source": [
    "量化系统一般分为回测模块、实盘模块。\n",
    "\n",
    "* 回测模块：首先交易者编写实现一个交易策略，它基于一段历史的交易数据，根据交易策略进行模拟买入卖出，策略中可以涉及买入规则、卖出规则、选股规则、仓位控制及滑点策略等等，回测的目的是验证交易策略是否可行。\n",
    "* 实盘模块：将回测通过的策略应用于每天的实时交易数据，根据策略发出买入信号、卖出信号，进行实际的买入、卖出操作。"
   ]
  },
  {
   "cell_type": "markdown",
   "metadata": {},
   "source": [
    "回测模块最重要的组成部份是择时、选股：\n",
    "\n",
    "* 择时（什么时候投资）\n",
    "* 选股（投资什么股票）\n",
    "\n",
    "只有在对的时间买入对的股票才能获利，就像下面张小娴的名言一样，可以把‘股票’ 代替 ‘人’完全合乎逻辑。\n",
    "\n",
    ">在对的时间，遇见对的人(股票)，是一种幸福 \n",
    ">\n",
    ">在对的时间，遇见错的人(股票)，是一种悲伤 \n",
    ">\n",
    ">在错的时间，遇见对的人(股票)，是一声叹息 \n",
    ">\n",
    ">在错的时间，遇见错的人(股票)，是一种无奈 \n",
    "\n",
    "本节首先讲解择时(什么时候投资), 后面的小节将讲解选股"
   ]
  },
  {
   "cell_type": "markdown",
   "metadata": {},
   "source": [
    "### 1. 买入择时因子的编写\n",
    "\n",
    "海龟交易法则是量化经典书籍中的经典作品，它里面介绍过一种趋势跟踪策略：N日趋势突破策略\n",
    "\n",
    "趋势突破定义为当天收盘价格超过N天内的最高价或最低价，超过最高价格作为买入信号买入股票持有，超过最低价格作为卖出信号。\n",
    "\n",
    "下面将用abupy来实现海龟交易法则作为一个买入因子的实现代码，向经典致敬："
   ]
  },
  {
   "cell_type": "code",
   "metadata": {
    "collapsed": true,
    "ExecuteTime": {
     "end_time": "2024-05-23T10:24:13.240384Z",
     "start_time": "2024-05-23T10:24:13.236488Z"
    }
   },
   "source": [
    "from abupy import AbuFactorBuyXD, BuyCallMixin\n",
    "\n",
    "class AbuFactorBuyBreak(AbuFactorBuyXD, BuyCallMixin):\n",
    "    \"\"\"示例继承AbuFactorBuyXD完成正向突破买入择时类, 混入BuyCallMixin，即向上突破触发买入event\"\"\"\n",
    "    def fit_day(self, today):\n",
    "        \"\"\"\n",
    "        针对每一个交易日拟合买入交易策略，寻找向上突破买入机会\n",
    "        :param today: 当前驱动的交易日金融时间序列数据\n",
    "        :return:\n",
    "        \"\"\"\n",
    "        # 今天的收盘价格达到xd天内最高价格则符合买入条件\n",
    "        if today.close == self.xd_kl.close.max():\n",
    "            # 生成买入订单, 由于使用了今天的收盘价格做为策略信号判断，所以信号发出后，只能明天买\n",
    "            return self.buy_tomorrow()\n",
    "        return None"
   ],
   "outputs": [],
   "execution_count": 20
  },
  {
   "cell_type": "markdown",
   "metadata": {},
   "source": [
    "上AbuFactorBuyBreak即是完成了海龟突破策略的代码实现：\n",
    "\n",
    "1. 买入因子需要继承AbuFactorBuyXD或者更复杂的策略继承AbuFactorBuyBase\n",
    "2. 买入因子混入BuyCallMixin，即做为正向策略，股票相关的策略全部是正向策略，即买涨，后续章节示例期货，期权会使用BuyPutMixin\n",
    "3. 买入因子需要实现fit_day，即每一个交易日如何执行交易策略，当符合买入条件后，使用buy_tomorrow或者buy_today生成订单\n",
    "\n",
    "更多买入因子实现代码请阅读AbuFactorBuyBase"
   ]
  },
  {
   "cell_type": "markdown",
   "metadata": {},
   "source": [
    "### 2. 分解模式一步一步对策略进行回测"
   ]
  },
  {
   "cell_type": "markdown",
   "metadata": {},
   "source": [
    "本节首先通过分解流程方式一步一步实现使用AbuFactorBuyBreak进行回测，目的是为了更清晰的说明内部操作流程，\n",
    "编码过程会显的有些复杂臃肿，但实际上在编写完成一个策略后只需要使用一行代码即可以完成回测，在后面的小节中会进行讲解。\n",
    "\n",
    "通过字典形式初始化买入buy_factors，首先实现针对一支股票的择时操作:\n",
    "\n",
    "* benchmark的意义为基准参考，基准默认使用回测股票对应市场的大盘指数\n",
    "* 默认参数下回测过去两年的交易数据，传递AbuBenchmark(n_folds=2)参数修改回测周期\n",
    "* AbuCapital为资金主类，参数需要初始资金设定，这里初始设定1000000（100万），另一个参数为刚刚介绍过的benchmark（基准参考）对象\n",
    "* buy_factors由两个买入因子组成，进行择时的时候两个因子同时并行生效"
   ]
  },
  {
   "cell_type": "code",
   "metadata": {
    "collapsed": true,
    "ExecuteTime": {
     "end_time": "2024-05-23T10:24:13.255818Z",
     "start_time": "2024-05-23T10:24:13.241396Z"
    }
   },
   "source": [
    "from abupy import AbuBenchmark\n",
    "from abupy import AbuCapital\n",
    "\n",
    "# buy_factors 60日向上突破，42日向上突破两个因子\n",
    "buy_factors = [{'xd': 60, 'class': AbuFactorBuyBreak}, \n",
    "               {'xd': 42, 'class': AbuFactorBuyBreak}]\n",
    "benchmark = AbuBenchmark()\n",
    "capital = AbuCapital(1000000, benchmark)"
   ],
   "outputs": [],
   "execution_count": 21
  },
  {
   "cell_type": "markdown",
   "metadata": {},
   "source": [
    "择时ABuPickTimeExecute主要驱动方式为时间驱动，即通过时间序列一天一天递进，通过买入因子卖出因子的fit来查询是否有事件生成（买入卖出行为），另外也有框架使用事件驱动，它们分别有各自的优点，原始的abu框架就是时间驱动＋事件驱动的，它最大的优点是执行效率比时间驱动高，但是灵活性及扩展性要比时间驱动差。\n",
    "\n",
    "下面使用ABuPickTimeExecute开始进行择时交易回测，ABuPickTimeExecute实际上不是最简洁的回测接口，更简单的接口可以使用abu.run_loop_back()函数，在后面的章节将会示例使用，本节目的是为了更清晰的说明内部操作流程。\n",
    "\n",
    "由回测结果图可看出由于AbuPickTimeWorker没有设置sell_factors，所以所有的交易单子都一直保留没有卖出：\n",
    "\n",
    "* orders_pd：所有交易的相关数据（之后会有内容展示）\n",
    "* action_pd：所有交易的行为数据（之后会有内容展示）"
   ]
  },
  {
   "cell_type": "code",
   "metadata": {
    "scrolled": false,
    "ExecuteTime": {
     "end_time": "2024-05-23T10:30:17.295206Z",
     "start_time": "2024-05-23T10:30:17.282392Z"
    }
   },
   "source": [
    "from abupy import ABuPickTimeExecute\n",
    "orders_pd, action_pd, _ = ABuPickTimeExecute.do_symbols_with_same_factors(['usTSLA'],\n",
    "                                                                            benchmark,\n",
    "                                                                            buy_factors,\n",
    "                                                                            None,\n",
    "                                                                            capital, show=True)"
   ],
   "outputs": [
    {
     "name": "stderr",
     "output_type": "stream",
     "text": [
      "unsupported operand type(s) for &: 'DatetimeArray' and 'DatetimeArray'\n",
      "Traceback (most recent call last):\n",
      "  File \"C:\\Users\\ME\\Desktop\\abu\\abupy\\AlphaBu\\ABuPickTimeExecute.py\", line 117, in _batch_symbols_with_same_factors\n",
      "    kl_pd = kl_pd_manager.get_pick_time_kl_pd(target_symbol)\n",
      "            ^^^^^^^^^^^^^^^^^^^^^^^^^^^^^^^^^^^^^^^^^^^^^^^^\n",
      "  File \"C:\\Users\\ME\\Desktop\\abu\\abupy\\TradeBu\\ABuKLManager.py\", line 169, in get_pick_time_kl_pd\n",
      "    kl_pd = self._fetch_pick_time_kl_pd(target_symbol)\n",
      "            ^^^^^^^^^^^^^^^^^^^^^^^^^^^^^^^^^^^^^^^^^^\n",
      "  File \"C:\\Users\\ME\\Desktop\\abu\\abupy\\TradeBu\\ABuKLManager.py\", line 157, in _fetch_pick_time_kl_pd\n",
      "    return ABuSymbolPd.make_kl_df(target_symbol, data_mode=EMarketDataSplitMode.E_DATA_SPLIT_UNDO,\n",
      "           ^^^^^^^^^^^^^^^^^^^^^^^^^^^^^^^^^^^^^^^^^^^^^^^^^^^^^^^^^^^^^^^^^^^^^^^^^^^^^^^^^^^^^^^\n",
      "  File \"C:\\Users\\ME\\Desktop\\abu\\abupy\\MarketBu\\ABuSymbolPd.py\", line 305, in make_kl_df\n",
      "    # 对单个symbol进行数据获取\n",
      "          ^^^^^^^^^^^^^^^^^^^^\n",
      "  File \"C:\\Users\\ME\\Desktop\\abu\\abupy\\MarketBu\\ABuSymbolPd.py\", line 128, in _make_kl_df\n",
      "    temp_symbol = save_kl_key[0]\n",
      "         ^^^^^^^^^^^^^^^^^^^^^^^^\n",
      "  File \"C:\\Users\\ME\\Desktop\\abu\\abupy\\MarketBu\\ABuSymbolPd.py\", line 48, in _benchmark\n",
      "    print(df.index & benchmark.kl_pd.index)\n",
      "           ^^^^^^^^^^^^^^^^^^^^^^^^^^^^^^^^\n",
      "  File \"C:\\Users\\ME\\Desktop\\abu\\venv\\Lib\\site-packages\\pandas\\core\\ops\\common.py\", line 76, in new_method\n",
      "    return method(self, other)\n",
      "           ^^^^^^^^^^^^^^^^^^^\n",
      "  File \"C:\\Users\\ME\\Desktop\\abu\\venv\\Lib\\site-packages\\pandas\\core\\arraylike.py\", line 70, in __and__\n",
      "    return self._logical_method(other, operator.and_)\n",
      "           ^^^^^^^^^^^^^^^^^^^^^^^^^^^^^^^^^^^^^^^^^^\n",
      "  File \"C:\\Users\\ME\\Desktop\\abu\\venv\\Lib\\site-packages\\pandas\\core\\indexes\\base.py\", line 7215, in _logical_method\n",
      "    res_values = ops.logical_op(lvalues, rvalues, op)\n",
      "                 ^^^^^^^^^^^^^^^^^^^^^^^^^^^^^^^^^^^^\n",
      "  File \"C:\\Users\\ME\\Desktop\\abu\\venv\\Lib\\site-packages\\pandas\\core\\ops\\array_ops.py\", line 442, in logical_op\n",
      "    res_values = op(lvalues, rvalues)\n",
      "                 ^^^^^^^^^^^^^^^^^^^^\n",
      "TypeError: unsupported operand type(s) for &: 'DatetimeArray' and 'DatetimeArray'\n"
     ]
    }
   ],
   "execution_count": 27
  },
  {
   "cell_type": "markdown",
   "metadata": {},
   "source": [
    "### 3. 卖出择时因子的实现\n",
    "\n",
    "上面所有单子都没有成交的原因是没有卖出因子，下面首先实现类似买入策略的N日趋势突破策略AbuFactorSellBreak，当股价向下突破N日最低价格时卖出股票，即当天收盘价格低于N天内最低价格作为卖出信号，认为下跌趋势成立卖出股票："
   ]
  },
  {
   "cell_type": "code",
   "metadata": {
    "collapsed": true,
    "ExecuteTime": {
     "end_time": "2024-05-23T10:24:13.272643Z",
     "start_time": "2024-05-23T10:24:13.268166Z"
    }
   },
   "source": [
    "from abupy import AbuFactorSellXD, ESupportDirection\n",
    "\n",
    "class AbuFactorSellBreak(AbuFactorSellXD):\n",
    "    \"\"\"示例继承AbuFactorBuyXD, 向下突破卖出择时因子\"\"\"\n",
    "    def support_direction(self):\n",
    "        \"\"\"支持的方向，只支持正向\"\"\"\n",
    "        return [ESupportDirection.DIRECTION_CAll.value]\n",
    "\n",
    "    def fit_day(self, today, orders):\n",
    "        \"\"\"\n",
    "        寻找向下突破作为策略卖出驱动event\n",
    "        :param today: 当前驱动的交易日金融时间序列数据\n",
    "        :param orders: 买入择时策略中生成的订单序列\n",
    "        \"\"\"\n",
    "        # 今天的收盘价格达到xd天内最低价格则符合条件\n",
    "        if today.close == self.xd_kl.close.min():\n",
    "            for order in orders:\n",
    "                self.sell_tomorrow(order)"
   ],
   "outputs": [],
   "execution_count": 23
  },
  {
   "cell_type": "markdown",
   "metadata": {},
   "source": [
    "上AbuFactorSellBreak即是完成了卖出突破策略的代码实现：\n",
    "\n",
    "1. 卖出因子需要继承AbuFactorSellXD或者更复杂的策略继承AbuFactorSellBase\n",
    "2. 卖出因子需要实现support_direction方法，确定策略支持的买入策略方向，本例中[ESupportDirection.DIRECTION_CAll.value]即只支持正向买入策略，即买涨\n",
    "3. 卖出因子需要实现fit_day，看有没有符合卖出条件的交易单子\n",
    "\n",
    "更多具体卖出因子实现代码请阅读AbuFactorSellBase\n",
    "\n",
    "备注：之后章节的期货示例讲讲解如何使用ESupportDirection做反向交易，buy put"
   ]
  },
  {
   "cell_type": "markdown",
   "metadata": {},
   "source": [
    "#### 3.2 买入因子和卖出因子在回测中同时生效"
   ]
  },
  {
   "cell_type": "markdown",
   "metadata": {},
   "source": [
    "同理使用字典组装卖出因子："
   ]
  },
  {
   "cell_type": "code",
   "metadata": {
    "scrolled": false,
    "ExecuteTime": {
     "end_time": "2024-05-23T10:24:13.285412Z",
     "start_time": "2024-05-23T10:24:13.273648Z"
    }
   },
   "source": [
    "# 使用120天向下突破为卖出信号\n",
    "sell_factor1 = {'xd': 120, 'class': AbuFactorSellBreak}\n",
    "\n",
    "# buy_factors 60日向上突破，42日向上突破两个因子\n",
    "buy_factors = [{'xd': 60, 'class': AbuFactorBuyBreak}, \n",
    "               {'xd': 42, 'class': AbuFactorBuyBreak}]\n",
    "\n",
    "# 只使用120天向下突破为卖出因子\n",
    "sell_factors = [sell_factor1]\n",
    "capital = AbuCapital(1000000, benchmark)\n",
    "orders_pd, action_pd, _ = ABuPickTimeExecute.do_symbols_with_same_factors(['usTSLA'],\n",
    "                                                                            benchmark,\n",
    "                                                                            buy_factors,\n",
    "                                                                            sell_factors,\n",
    "                                                                            capital, show=True)"
   ],
   "outputs": [
    {
     "name": "stderr",
     "output_type": "stream",
     "text": [
      "unsupported operand type(s) for &: 'DatetimeArray' and 'DatetimeArray'\n",
      "Traceback (most recent call last):\n",
      "  File \"C:\\Users\\ME\\Desktop\\abu\\abupy\\AlphaBu\\ABuPickTimeExecute.py\", line 117, in _batch_symbols_with_same_factors\n",
      "    kl_pd = kl_pd_manager.get_pick_time_kl_pd(target_symbol)\n",
      "            ^^^^^^^^^^^^^^^^^^^^^^^^^^^^^^^^^^^^^^^^^^^^^^^^\n",
      "  File \"C:\\Users\\ME\\Desktop\\abu\\abupy\\TradeBu\\ABuKLManager.py\", line 169, in get_pick_time_kl_pd\n",
      "    kl_pd = self._fetch_pick_time_kl_pd(target_symbol)\n",
      "            ^^^^^^^^^^^^^^^^^^^^^^^^^^^^^^^^^^^^^^^^^^\n",
      "  File \"C:\\Users\\ME\\Desktop\\abu\\abupy\\TradeBu\\ABuKLManager.py\", line 157, in _fetch_pick_time_kl_pd\n",
      "    return ABuSymbolPd.make_kl_df(target_symbol, data_mode=EMarketDataSplitMode.E_DATA_SPLIT_UNDO,\n",
      "           ^^^^^^^^^^^^^^^^^^^^^^^^^^^^^^^^^^^^^^^^^^^^^^^^^^^^^^^^^^^^^^^^^^^^^^^^^^^^^^^^^^^^^^^\n",
      "  File \"C:\\Users\\ME\\Desktop\\abu\\abupy\\MarketBu\\ABuSymbolPd.py\", line 305, in make_kl_df\n",
      "    df, _ = _make_kl_df(symbol, data_mode=data_mode,\n",
      "            ^^^^^^^^^^^^^^^^^^^^^^^^^^^^^^^^^^^^^^^^\n",
      "  File \"C:\\Users\\ME\\Desktop\\abu\\abupy\\MarketBu\\ABuSymbolPd.py\", line 128, in _make_kl_df\n",
      "    df = _benchmark(df, benchmark, temp_symbol)\n",
      "         ^^^^^^^^^^^^^^^^^^^^^^^^^^^^^^^^^^^^^^\n",
      "  File \"C:\\Users\\ME\\Desktop\\abu\\abupy\\MarketBu\\ABuSymbolPd.py\", line 48, in _benchmark\n",
      "    if len(df.index & benchmark.kl_pd.index) <= 0:\n",
      "           ~~~~~~~~~^~~~~~~~~~~~~~~~~~~~~~~\n",
      "  File \"C:\\Users\\ME\\Desktop\\abu\\venv\\Lib\\site-packages\\pandas\\core\\ops\\common.py\", line 76, in new_method\n",
      "    return method(self, other)\n",
      "           ^^^^^^^^^^^^^^^^^^^\n",
      "  File \"C:\\Users\\ME\\Desktop\\abu\\venv\\Lib\\site-packages\\pandas\\core\\arraylike.py\", line 70, in __and__\n",
      "    return self._logical_method(other, operator.and_)\n",
      "           ^^^^^^^^^^^^^^^^^^^^^^^^^^^^^^^^^^^^^^^^^^\n",
      "  File \"C:\\Users\\ME\\Desktop\\abu\\venv\\Lib\\site-packages\\pandas\\core\\indexes\\base.py\", line 7215, in _logical_method\n",
      "    res_values = ops.logical_op(lvalues, rvalues, op)\n",
      "                 ^^^^^^^^^^^^^^^^^^^^^^^^^^^^^^^^^^^^\n",
      "  File \"C:\\Users\\ME\\Desktop\\abu\\venv\\Lib\\site-packages\\pandas\\core\\ops\\array_ops.py\", line 442, in logical_op\n",
      "    res_values = op(lvalues, rvalues)\n",
      "                 ^^^^^^^^^^^^^^^^^^^^\n",
      "TypeError: unsupported operand type(s) for &: 'DatetimeArray' and 'DatetimeArray'\n"
     ]
    }
   ],
   "execution_count": 24
  },
  {
   "cell_type": "markdown",
   "metadata": {},
   "source": [
    "从上图可以看到，大多数的交易卖出因子都生效了，但效果很不好, 下一节将继续通过增加多个卖出因子同时作用于策略上来提高策略的效果。\n",
    "\n",
    "#### abu量化文档目录章节\n",
    "\n",
    "1. [择时策略的开发](http://www.abuquant.com/lecture/lecture_1.html)\n",
    "2. [择时策略的优化](http://www.abuquant.com/lecture/lecture_2.html)\n",
    "3. [滑点策略与交易手续费](http://www.abuquant.com/lecture/lecture_3.html)\n",
    "4. [多支股票择时回测与仓位管理](http://www.abuquant.com/lecture/lecture_4.html)\n",
    "5. [选股策略的开发](http://www.abuquant.com/lecture/lecture_5.html)\n",
    "6. [回测结果的度量](http://www.abuquant.com/lecture/lecture_6.html)\n",
    "7. [寻找策略最优参数和评分](http://www.abuquant.com/lecture/lecture_7.html)\n",
    "8. [A股市场的回测](http://www.abuquant.com/lecture/lecture_8.html)\n",
    "9. [港股市场的回测](http://www.abuquant.com/lecture/lecture_9.html)\n",
    "10. [比特币，莱特币的回测](http://www.abuquant.com/lecture/lecture_10.html)\n",
    "11. [期货市场的回测](http://www.abuquant.com/lecture/lecture_11.html)\n",
    "12. [机器学习与比特币示例](http://www.abuquant.com/lecture/lecture_12.html)\n",
    "13. [量化技术分析应用](http://www.abuquant.com/lecture/lecture_13.html)\n",
    "14. [量化相关性分析应用](http://www.abuquant.com/lecture/lecture_14.html)\n",
    "15. [量化交易和搜索引擎](http://www.abuquant.com/lecture/lecture_15.html)\n",
    "16. [UMP主裁交易决策](http://www.abuquant.com/lecture/lecture_16.html)\n",
    "17. [UMP边裁交易决策](http://www.abuquant.com/lecture/lecture_17.html)\n",
    "18. [自定义裁判决策交易](http://www.abuquant.com/lecture/lecture_18.html)\n",
    "19. [数据源](http://www.abuquant.com/lecture/lecture_19.html)\n",
    "20. [A股全市场回测](http://www.abuquant.com/lecture/lecture_20.html)\n",
    "21. [A股UMP决策](http://www.abuquant.com/lecture/lecture_21.html)\n",
    "22. [美股全市场回测](http://www.abuquant.com/lecture/lecture_22.html)\n",
    "23. [美股UMP决策](http://www.abuquant.com/lecture/lecture_23.html)\n",
    "\n",
    "[更多阿布量化量化技术文章](http://www.abuquant.com/article)\n",
    "\n",
    "abu量化系统文档教程持续更新中，请关注公众号中的更新提醒。\n",
    "\n",
    "#### 《量化交易之路》目录章节及随书代码地址\n",
    "\n",
    "1. [第二章 量化语言——Python](https://github.com/bbfamily/abu/tree/master/ipython/第二章-量化语言——Python.ipynb)\n",
    "2. [第三章 量化工具——NumPy](https://github.com/bbfamily/abu/tree/master/ipython/第三章-量化工具——NumPy.ipynb)\n",
    "3. [第四章 量化工具——pandas](https://github.com/bbfamily/abu/tree/master/ipython/第四章-量化工具——pandas.ipynb)\n",
    "4. [第五章 量化工具——可视化](https://github.com/bbfamily/abu/tree/master/ipython/第五章-量化工具——可视化.ipynb)\n",
    "5. [第六章 量化工具——数学：你一生的追求到底能带来多少幸福](https://github.com/bbfamily/abu/tree/master/ipython/第六章-量化工具——数学.ipynb)\n",
    "6. [第七章 量化系统——入门：三只小猪股票投资的故事](https://github.com/bbfamily/abu/tree/master/ipython/第七章-量化系统——入门.ipynb)\n",
    "7. [第八章 量化系统——开发](https://github.com/bbfamily/abu/tree/master/ipython/第八章-量化系统——开发.ipynb)\n",
    "8. [第九章 量化系统——度量与优化](https://github.com/bbfamily/abu/tree/master/ipython/第九章-量化系统——度量与优化.ipynb)\n",
    "9. [第十章 量化系统——机器学习•猪老三](https://github.com/bbfamily/abu/tree/master/ipython/第十章-量化系统——机器学习•猪老三.ipynb)\n",
    "10. [第十一章 量化系统——机器学习•ABU](https://github.com/bbfamily/abu/tree/master/ipython/第十一章-量化系统——机器学习•ABU.ipynb)\n",
    "11. [附录A 量化环境部署](https://github.com/bbfamily/abu/tree/master/ipython/附录A-量化环境部署.ipynb)\n",
    "12. [附录B 量化相关性分析](https://github.com/bbfamily/abu/tree/master/ipython/附录B-量化相关性分析.ipynb)\n",
    "13. [附录C 量化统计分析及指标应用](https://github.com/bbfamily/abu/tree/master/ipython/附录C-量化统计分析及指标应用.ipynb)\n",
    "\n",
    "更多关于量化交易相关请阅读[《量化交易之路》](http://www.abuquant.com/books/quantify-trading-road.html)\n",
    "\n",
    "更多关于量化交易与机器学习相关请阅读[《机器学习之路》](http://www.abuquant.com/books/machine-learning-road.html)\n",
    "\n",
    "更多关于abu量化系统请关注微信公众号: abu_quant\n",
    "\n",
    "![](./image/qrcode.jpg)"
   ]
  }
 ],
 "metadata": {
  "kernelspec": {
   "display_name": "Python 3",
   "language": "python",
   "name": "python3"
  },
  "language_info": {
   "codemirror_mode": {
    "name": "ipython",
    "version": 3
   },
   "file_extension": ".py",
   "mimetype": "text/x-python",
   "name": "python",
   "nbconvert_exporter": "python",
   "pygments_lexer": "ipython3",
   "version": "3.6.2"
  }
 },
 "nbformat": 4,
 "nbformat_minor": 2
}
